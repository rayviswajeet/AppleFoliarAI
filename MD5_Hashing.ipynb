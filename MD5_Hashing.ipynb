{
  "nbformat": 4,
  "nbformat_minor": 0,
  "metadata": {
    "colab": {
      "name": "MD5_Hashing.ipynb",
      "provenance": [],
      "collapsed_sections": [],
      "authorship_tag": "ABX9TyMmJ6Mrh8ZIBkiV/Eoq1qjV",
      "include_colab_link": true
    },
    "kernelspec": {
      "name": "python3",
      "display_name": "Python 3"
    },
    "language_info": {
      "name": "python"
    }
  },
  "cells": [
    {
      "cell_type": "markdown",
      "metadata": {
        "id": "view-in-github",
        "colab_type": "text"
      },
      "source": [
        "<a href=\"https://colab.research.google.com/github/rayviswajeet/AppleFoliarAI/blob/master/MD5_Hashing.ipynb\" target=\"_parent\"><img src=\"https://colab.research.google.com/assets/colab-badge.svg\" alt=\"Open In Colab\"/></a>"
      ]
    },
    {
      "cell_type": "markdown",
      "metadata": {
        "id": "JpaWcVIski3Q"
      },
      "source": [
        "#Python program to generate MD5 of String data"
      ]
    },
    {
      "cell_type": "code",
      "metadata": {
        "colab": {
          "base_uri": "https://localhost:8080/"
        },
        "id": "XomaNJcgkJoG",
        "outputId": "a8f767e9-b879-4302-fa66-12139bfd3141"
      },
      "source": [
        "import hashlib\n",
        "m = hashlib.md5()\n",
        "text = input(\"Enter String:\")\n",
        "m.update(text.encode('utf-8'))\n",
        "print(m.hexdigest())"
      ],
      "execution_count": 1,
      "outputs": [
        {
          "output_type": "stream",
          "text": [
            "Enter String:hello world\n",
            "5eb63bbbe01eeed093cb22bb8f5acdc3\n"
          ],
          "name": "stdout"
        }
      ]
    }
  ]
}